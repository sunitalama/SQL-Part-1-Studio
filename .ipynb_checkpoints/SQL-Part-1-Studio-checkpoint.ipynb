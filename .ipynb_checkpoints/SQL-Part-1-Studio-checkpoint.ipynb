{
 "cells": [
  {
   "cell_type": "markdown",
   "metadata": {
    "azdata_cell_guid": "b9034d8a-b631-48bf-a895-1012a6ffa784"
   },
   "source": [
    "# SQL Part 1 Studio\n",
    "\n",
    "### Let's practice your SQL quering skills!  For each question, work along in the notebook adding your query and answering the questions. \n",
    "\n",
    "### **DataSet**\n",
    "\n",
    "### <span style=\"font-size: 14px; font-family: -apple-system, BlinkMacSystemFont, sans-serif;\">We will be using the Goodbooks-10k dataset from the exercises in the prep work.&nbsp; Feel free to reference your notebook.</span>\n",
    "\n",
    "- The dataset can be found here: [goodbooks-10k](https://www.kaggle.com/zygmunt/goodbooks-10k)\n",
    "- You can access the **BooksDB** in the Launchcode server.\n",
    "\n",
    "### **Business Issue**\n",
    "\n",
    "You work for a small independant book store and you want to increase sales by running various promotions.  Start by becoming more familar with the BooksDB."
   ]
  },
  {
   "cell_type": "markdown",
   "metadata": {
    "azdata_cell_guid": "6e55eb1c-4a14-4076-90d2-95ed17a6309f",
    "tags": [
     "hide_input"
    ]
   },
   "source": [
    "## Part 1. BooksDB Questions\n",
    "\n",
    "<span style=\"color: rgba(0, 0, 0, 0.87); font-family: -apple-system, system-ui, &quot;Segoe UI&quot;, Helvetica, Arial, sans-serif, &quot;Apple Color Emoji&quot;, &quot;Segoe UI Emoji&quot;, &quot;Segoe UI Symbol&quot;; background-color: rgb(255, 255, 255);\">Question 1:&nbsp; Write a query of the books table, returning the TOP 100 results and&nbsp; includes, book_id, authors, title, average_rating.&nbsp; Use an alias for at least one column and in descending order of rating.&nbsp; What is the number one book?</span>"
   ]
  },
  {
   "cell_type": "code",
   "execution_count": null,
   "metadata": {
    "azdata_cell_guid": "470b0ca4-9a32-4b46-a42e-bbb645101769",
    "tags": []
   },
   "outputs": [],
   "source": [
    "-- return top 100 results\n",
    "sunita"
   ]
  },
  {
   "cell_type": "markdown",
   "metadata": {
    "azdata_cell_guid": "777429b8-8622-489d-9c49-e2acecd7f17e"
   },
   "source": [
    "Question 2: Write a query to find the least popular book."
   ]
  },
  {
   "cell_type": "code",
   "execution_count": null,
   "metadata": {
    "azdata_cell_guid": "c78a1779-db74-470f-a60a-7c72a43d774b"
   },
   "outputs": [],
   "source": [
    "-- return least popular book\n"
   ]
  },
  {
   "cell_type": "markdown",
   "metadata": {
    "azdata_cell_guid": "a370909d-5d64-49e2-8fec-5220730c8ca7"
   },
   "source": [
    "Question 3: Which tag is the most popular?"
   ]
  },
  {
   "cell_type": "code",
   "execution_count": null,
   "metadata": {
    "azdata_cell_guid": "9e0451dc-c4d3-4775-9eb1-904854f459ff",
    "tags": []
   },
   "outputs": [],
   "source": [
    "-- return most popular tag\n"
   ]
  },
  {
   "cell_type": "markdown",
   "metadata": {
    "azdata_cell_guid": "3cdfa7e6-c5a6-49fb-aa27-afeece881627"
   },
   "source": [
    "Question 4: What is the name of the most popular tag?"
   ]
  },
  {
   "cell_type": "code",
   "execution_count": null,
   "metadata": {
    "azdata_cell_guid": "3cd3a3ec-4ce2-49b6-b714-44179eed00e1"
   },
   "outputs": [],
   "source": [
    "-- return name of most popular tag\n"
   ]
  },
  {
   "cell_type": "markdown",
   "metadata": {
    "azdata_cell_guid": "b3962545-c0c2-47ca-a3c4-299c2c0a4b0c"
   },
   "source": [
    "Question 5: How many books where released in the first decade of 2000?"
   ]
  },
  {
   "cell_type": "code",
   "execution_count": null,
   "metadata": {
    "azdata_cell_guid": "8dcd65e9-1b3e-4cf8-b726-26729a1225f2"
   },
   "outputs": [],
   "source": [
    "-- return number of books published in the first decade of 2000\n"
   ]
  },
  {
   "cell_type": "markdown",
   "metadata": {
    "azdata_cell_guid": "5080d6de-2775-4055-97ae-f93fce97a426"
   },
   "source": [
    "Question 6: How many book titles contain the word Happy?"
   ]
  },
  {
   "cell_type": "code",
   "execution_count": null,
   "metadata": {
    "azdata_cell_guid": "f55f18b9-91b1-4761-ad8c-4758434d7827"
   },
   "outputs": [],
   "source": [
    "-- return number of books that contain the word Happy\n"
   ]
  },
  {
   "cell_type": "markdown",
   "metadata": {
    "azdata_cell_guid": "d38270ef-da5a-42b4-802a-506acb8b9e4b"
   },
   "source": [
    "Question 7: List the books from the top 3 authors from question 1.  If there is more than one author just use the first one. Sort the titles <span style=\"background-color: rgba(127, 127, 127, 0.1); font-family: -apple-system, BlinkMacSystemFont, sans-serif;\">alphabetically by author and then by average_rating, best rated to lowest. Does order matter in sorting?</span>"
   ]
  },
  {
   "cell_type": "code",
   "execution_count": null,
   "metadata": {
    "azdata_cell_guid": "47466fac-5d8d-491d-bd3c-2f8496f55e6b"
   },
   "outputs": [],
   "source": [
    "-- return all books from the top 3 authors, sort by author and rating\n"
   ]
  },
  {
   "cell_type": "markdown",
   "metadata": {
    "azdata_cell_guid": "db907c70-0bbd-4121-ac91-ae814f703243"
   },
   "source": [
    "Question 8: Take a close look at J.K. Rowling.  Is her top rated book on this list from question 1?  Why might this be? How could we account for this?\n",
    "\n",
    "> Click here to add your answer."
   ]
  },
  {
   "cell_type": "markdown",
   "metadata": {
    "azdata_cell_guid": "35ee4a48-8e84-4eb5-95ca-f5cdddc8d682"
   },
   "source": [
    "Try updating your above query to include all of J.K. Rowling's books.\n",
    "\n",
    "Are there any other issues?\n",
    "\n",
    "> Click here to add your answer."
   ]
  },
  {
   "cell_type": "code",
   "execution_count": null,
   "metadata": {
    "azdata_cell_guid": "ce489012-fce9-435c-b570-7734223a0678",
    "tags": []
   },
   "outputs": [],
   "source": [
    "-- Try updating your above query to include all of J.K. Rowling's books\n"
   ]
  },
  {
   "cell_type": "markdown",
   "metadata": {
    "azdata_cell_guid": "75bf5054-4918-4e9e-8e03-24a38ffab9cc"
   },
   "source": [
    "Question 9: Write a query that returns the number of Authors whose first name is between rock and roll."
   ]
  },
  {
   "cell_type": "code",
   "execution_count": null,
   "metadata": {
    "azdata_cell_guid": "491b2492-95d4-4078-b319-386b0c5592ec"
   },
   "outputs": [],
   "source": [
    "-- return number of authors whose first name is between rock and roll\n",
    "\n"
   ]
  },
  {
   "cell_type": "markdown",
   "metadata": {
    "azdata_cell_guid": "1ba1363a-4f02-4962-a95a-93b80c5926b1"
   },
   "source": [
    "## Part 2. Write your own question and write a query to answer it.\n",
    "\n",
    "Your Question:  Click here to add"
   ]
  },
  {
   "cell_type": "code",
   "execution_count": null,
   "metadata": {
    "azdata_cell_guid": "607f1a61-b306-42bf-a20c-60ec3a6ba86a"
   },
   "outputs": [],
   "source": [
    "-- Add your querry here\n"
   ]
  },
  {
   "cell_type": "markdown",
   "metadata": {
    "azdata_cell_guid": "9386ad04-a016-44d4-8c5c-d25a102d47b4"
   },
   "source": [
    "Your Question: Click here to add"
   ]
  },
  {
   "cell_type": "code",
   "execution_count": null,
   "metadata": {
    "azdata_cell_guid": "15f249cf-aad7-468d-92e1-429b2a09f285"
   },
   "outputs": [],
   "source": [
    "-- Add your querry here\n"
   ]
  },
  {
   "cell_type": "markdown",
   "metadata": {
    "azdata_cell_guid": "7160362b-7127-4123-bd1d-95a94ae38a07"
   },
   "source": [
    "**Some Question Examples:**\n",
    "\n",
    "Write a query that returns the longest title?\n",
    "\n",
    "Which Author has written the most books?  \n",
    "\n",
    "Top  ten books written the year I was born?"
   ]
  }
 ],
 "metadata": {
  "extensions": {
   "azuredatastudio": {
    "version": 1,
    "views": []
   }
  },
  "kernelspec": {
   "display_name": "SQL",
   "language": "sql",
   "name": "SQL"
  },
  "language_info": {
   "name": "sql",
   "version": ""
  }
 },
 "nbformat": 4,
 "nbformat_minor": 2
}
